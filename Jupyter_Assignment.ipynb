{
    "cells": [
        {
            "cell_type": "markdown",
            "metadata": {
                "collapsed": true
            },
            "source": "# \"My Jupyter Notebook on IBM Watson Studio\""
        },
        {
            "cell_type": "markdown",
            "metadata": {},
            "source": "# Pooja Mandal\nAspiring Data Scientist"
        },
        {
            "cell_type": "markdown",
            "metadata": {},
            "source": "_I am interested in the data science because i love the data, insights that can be drawn from it, Predictions in decision making._"
        },
        {
            "cell_type": "markdown",
            "metadata": {},
            "source": "### code will multiply two numbers"
        },
        {
            "cell_type": "code",
            "execution_count": 2,
            "metadata": {},
            "outputs": [
                {
                    "data": {
                        "text/plain": "12"
                    },
                    "execution_count": 2,
                    "metadata": {},
                    "output_type": "execute_result"
                }
            ],
            "source": "2*6"
        },
        {
            "cell_type": "markdown",
            "metadata": {},
            "source": "~~strikethrough~~\n[I'm an inline-style link](https://www.google.com)\n***\n---"
        },
        {
            "cell_type": "code",
            "execution_count": null,
            "metadata": {},
            "outputs": [],
            "source": ""
        }
    ],
    "metadata": {
        "kernelspec": {
            "display_name": "Python 3.6",
            "language": "python",
            "name": "python3"
        },
        "language_info": {
            "codemirror_mode": {
                "name": "ipython",
                "version": 3
            },
            "file_extension": ".py",
            "mimetype": "text/x-python",
            "name": "python",
            "nbconvert_exporter": "python",
            "pygments_lexer": "ipython3",
            "version": "3.6.9"
        }
    },
    "nbformat": 4,
    "nbformat_minor": 1
}